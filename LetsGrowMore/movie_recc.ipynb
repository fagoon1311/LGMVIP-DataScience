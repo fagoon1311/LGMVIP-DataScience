{
 "cells": [
  {
   "cell_type": "code",
   "execution_count": 1,
   "id": "97e5b6ff",
   "metadata": {},
   "outputs": [],
   "source": [
    "import pandas as pd\n",
    "import numpy as np\n",
    "from sklearn.feature_extraction.text import CountVectorizer\n",
    "from sklearn.metrics.pairwise import cosine_similarity"
   ]
  },
  {
   "cell_type": "code",
   "execution_count": 2,
   "id": "72dd1ef8",
   "metadata": {},
   "outputs": [],
   "source": [
    "# importing the dataset\n",
    "df = pd.read_csv('bollywood.csv')\n"
   ]
  },
  {
   "cell_type": "code",
   "execution_count": 3,
   "id": "928b035c",
   "metadata": {},
   "outputs": [
    {
     "data": {
      "text/html": [
       "<div>\n",
       "<style scoped>\n",
       "    .dataframe tbody tr th:only-of-type {\n",
       "        vertical-align: middle;\n",
       "    }\n",
       "\n",
       "    .dataframe tbody tr th {\n",
       "        vertical-align: top;\n",
       "    }\n",
       "\n",
       "    .dataframe thead th {\n",
       "        text-align: right;\n",
       "    }\n",
       "</style>\n",
       "<table border=\"1\" class=\"dataframe\">\n",
       "  <thead>\n",
       "    <tr style=\"text-align: right;\">\n",
       "      <th></th>\n",
       "      <th>Year</th>\n",
       "      <th>Title</th>\n",
       "      <th>Director</th>\n",
       "      <th>Cast</th>\n",
       "      <th>Genre</th>\n",
       "      <th>Release Month</th>\n",
       "      <th>Release Date</th>\n",
       "      <th>Highest Grosser By Year(in crores)</th>\n",
       "    </tr>\n",
       "  </thead>\n",
       "  <tbody>\n",
       "    <tr>\n",
       "      <th>0</th>\n",
       "      <td>1920</td>\n",
       "      <td>Balika Badhu a.k.a. Baby Bride</td>\n",
       "      <td>P. T. Shaida (Tulsidutt Shaida)</td>\n",
       "      <td>shaida,pandit,ali,miss,tarak,bagcha,tulsidutt</td>\n",
       "      <td>social</td>\n",
       "      <td>NaN</td>\n",
       "      <td>NaN</td>\n",
       "      <td>NaN</td>\n",
       "    </tr>\n",
       "    <tr>\n",
       "      <th>1</th>\n",
       "      <td>1920</td>\n",
       "      <td>Daksha Yagna a.k.a. Sati Parvati</td>\n",
       "      <td>Vishnupant Divekar</td>\n",
       "      <td>prabha,khalil,vaidya</td>\n",
       "      <td>mythology</td>\n",
       "      <td>NaN</td>\n",
       "      <td>NaN</td>\n",
       "      <td>NaN</td>\n",
       "    </tr>\n",
       "    <tr>\n",
       "      <th>2</th>\n",
       "      <td>1920</td>\n",
       "      <td>Jalandhar Vrinda a.k.a. Sati Tulsi Vrinda</td>\n",
       "      <td>G. V. Sane</td>\n",
       "      <td>unknown</td>\n",
       "      <td>mythology</td>\n",
       "      <td>NaN</td>\n",
       "      <td>NaN</td>\n",
       "      <td>NaN</td>\n",
       "    </tr>\n",
       "    <tr>\n",
       "      <th>3</th>\n",
       "      <td>1920</td>\n",
       "      <td>Kansa Vadha a.k.a. End Of The Tyrant King</td>\n",
       "      <td>G. V. Sane</td>\n",
       "      <td>unknown</td>\n",
       "      <td>mythology</td>\n",
       "      <td>NaN</td>\n",
       "      <td>NaN</td>\n",
       "      <td>NaN</td>\n",
       "    </tr>\n",
       "    <tr>\n",
       "      <th>4</th>\n",
       "      <td>1920</td>\n",
       "      <td>Katorabhar Khoon a.k.a.The Stinger Stung a.k.a...</td>\n",
       "      <td>S. N. Patankar</td>\n",
       "      <td>koregaonkar,gokhale,vyas,trymbakrao,pradhan,ta...</td>\n",
       "      <td>social</td>\n",
       "      <td>NaN</td>\n",
       "      <td>NaN</td>\n",
       "      <td>NaN</td>\n",
       "    </tr>\n",
       "    <tr>\n",
       "      <th>...</th>\n",
       "      <td>...</td>\n",
       "      <td>...</td>\n",
       "      <td>...</td>\n",
       "      <td>...</td>\n",
       "      <td>...</td>\n",
       "      <td>...</td>\n",
       "      <td>...</td>\n",
       "      <td>...</td>\n",
       "    </tr>\n",
       "    <tr>\n",
       "      <th>9677</th>\n",
       "      <td>2019</td>\n",
       "      <td>Panipat</td>\n",
       "      <td>Ashutosh Gowariker</td>\n",
       "      <td>Sanjay DuttArjun KapoorKriti SanonKabir Bedi</td>\n",
       "      <td>Action/battle</td>\n",
       "      <td>DEC</td>\n",
       "      <td>6.0</td>\n",
       "      <td>NaN</td>\n",
       "    </tr>\n",
       "    <tr>\n",
       "      <th>9678</th>\n",
       "      <td>2019</td>\n",
       "      <td>Pati, Patni Aur Woh</td>\n",
       "      <td>Mudassar Aziz</td>\n",
       "      <td>Kartik AaryanBhumi PednekarAnanya Panday</td>\n",
       "      <td>Comedy</td>\n",
       "      <td>DEC</td>\n",
       "      <td>6.0</td>\n",
       "      <td>NaN</td>\n",
       "    </tr>\n",
       "    <tr>\n",
       "      <th>9679</th>\n",
       "      <td>2019</td>\n",
       "      <td>Mardaani 2</td>\n",
       "      <td>Gopi Puthran</td>\n",
       "      <td>Rani MukherjeeVikram Singh ChauhanShruti Bapna...</td>\n",
       "      <td>Crime Thriller</td>\n",
       "      <td>DEC</td>\n",
       "      <td>13.0</td>\n",
       "      <td>NaN</td>\n",
       "    </tr>\n",
       "    <tr>\n",
       "      <th>9680</th>\n",
       "      <td>2019</td>\n",
       "      <td>Dabangg 3</td>\n",
       "      <td>Prabhu Deva</td>\n",
       "      <td>Salman KhanSonakshi SinhaArbaaz KhanMahie Gill...</td>\n",
       "      <td>Action</td>\n",
       "      <td>DEC</td>\n",
       "      <td>20.0</td>\n",
       "      <td>NaN</td>\n",
       "    </tr>\n",
       "    <tr>\n",
       "      <th>9681</th>\n",
       "      <td>2019</td>\n",
       "      <td>Good News</td>\n",
       "      <td>Raj Mehta</td>\n",
       "      <td>Akshay KumarKareena KapoorDiljit DosanjhKiara ...</td>\n",
       "      <td>Comedy</td>\n",
       "      <td>DEC</td>\n",
       "      <td>27.0</td>\n",
       "      <td>NaN</td>\n",
       "    </tr>\n",
       "  </tbody>\n",
       "</table>\n",
       "<p>9682 rows × 8 columns</p>\n",
       "</div>"
      ],
      "text/plain": [
       "      Year                                              Title  \\\n",
       "0     1920                     Balika Badhu a.k.a. Baby Bride   \n",
       "1     1920                   Daksha Yagna a.k.a. Sati Parvati   \n",
       "2     1920          Jalandhar Vrinda a.k.a. Sati Tulsi Vrinda   \n",
       "3     1920          Kansa Vadha a.k.a. End Of The Tyrant King   \n",
       "4     1920  Katorabhar Khoon a.k.a.The Stinger Stung a.k.a...   \n",
       "...    ...                                                ...   \n",
       "9677  2019                                            Panipat   \n",
       "9678  2019                                Pati, Patni Aur Woh   \n",
       "9679  2019                                         Mardaani 2   \n",
       "9680  2019                                          Dabangg 3   \n",
       "9681  2019                                          Good News   \n",
       "\n",
       "                             Director  \\\n",
       "0     P. T. Shaida (Tulsidutt Shaida)   \n",
       "1                  Vishnupant Divekar   \n",
       "2                          G. V. Sane   \n",
       "3                          G. V. Sane   \n",
       "4                      S. N. Patankar   \n",
       "...                               ...   \n",
       "9677               Ashutosh Gowariker   \n",
       "9678                    Mudassar Aziz   \n",
       "9679                     Gopi Puthran   \n",
       "9680                      Prabhu Deva   \n",
       "9681                        Raj Mehta   \n",
       "\n",
       "                                                   Cast           Genre  \\\n",
       "0         shaida,pandit,ali,miss,tarak,bagcha,tulsidutt          social   \n",
       "1                                  prabha,khalil,vaidya       mythology   \n",
       "2                                               unknown       mythology   \n",
       "3                                               unknown       mythology   \n",
       "4     koregaonkar,gokhale,vyas,trymbakrao,pradhan,ta...          social   \n",
       "...                                                 ...             ...   \n",
       "9677       Sanjay DuttArjun KapoorKriti SanonKabir Bedi   Action/battle   \n",
       "9678           Kartik AaryanBhumi PednekarAnanya Panday          Comedy   \n",
       "9679  Rani MukherjeeVikram Singh ChauhanShruti Bapna...  Crime Thriller   \n",
       "9680  Salman KhanSonakshi SinhaArbaaz KhanMahie Gill...          Action   \n",
       "9681  Akshay KumarKareena KapoorDiljit DosanjhKiara ...          Comedy   \n",
       "\n",
       "     Release Month  Release Date  Highest Grosser By Year(in crores)  \n",
       "0              NaN           NaN                                 NaN  \n",
       "1              NaN           NaN                                 NaN  \n",
       "2              NaN           NaN                                 NaN  \n",
       "3              NaN           NaN                                 NaN  \n",
       "4              NaN           NaN                                 NaN  \n",
       "...            ...           ...                                 ...  \n",
       "9677           DEC           6.0                                 NaN  \n",
       "9678           DEC           6.0                                 NaN  \n",
       "9679           DEC          13.0                                 NaN  \n",
       "9680           DEC          20.0                                 NaN  \n",
       "9681           DEC          27.0                                 NaN  \n",
       "\n",
       "[9682 rows x 8 columns]"
      ]
     },
     "execution_count": 3,
     "metadata": {},
     "output_type": "execute_result"
    }
   ],
   "source": [
    "df\n",
    "# this is our dataset which we imported"
   ]
  },
  {
   "cell_type": "code",
   "execution_count": 4,
   "id": "01db9eed",
   "metadata": {},
   "outputs": [
    {
     "data": {
      "text/plain": [
       "Index(['Year', 'Title', 'Director', 'Cast', 'Genre', 'Release Month',\n",
       "       'Release Date', 'Highest Grosser By Year(in crores)'],\n",
       "      dtype='object')"
      ]
     },
     "execution_count": 4,
     "metadata": {},
     "output_type": "execute_result"
    }
   ],
   "source": [
    "df.columns\n",
    "# this shows us the name of the columns in our dataset"
   ]
  },
  {
   "cell_type": "code",
   "execution_count": 5,
   "id": "791aa680",
   "metadata": {},
   "outputs": [],
   "source": [
    "df.drop(['Release Month'], axis = 1, inplace = True)\n",
    "df.drop(['Release Date'], axis = 1, inplace = True)\n",
    "df.drop(['Highest Grosser By Year(in crores)'], axis = 1, inplace = True)\n",
    "# dropping the un-neccessary columns from our dataset.\n"
   ]
  },
  {
   "cell_type": "code",
   "execution_count": 6,
   "id": "899f63b7",
   "metadata": {},
   "outputs": [
    {
     "data": {
      "text/html": [
       "<div>\n",
       "<style scoped>\n",
       "    .dataframe tbody tr th:only-of-type {\n",
       "        vertical-align: middle;\n",
       "    }\n",
       "\n",
       "    .dataframe tbody tr th {\n",
       "        vertical-align: top;\n",
       "    }\n",
       "\n",
       "    .dataframe thead th {\n",
       "        text-align: right;\n",
       "    }\n",
       "</style>\n",
       "<table border=\"1\" class=\"dataframe\">\n",
       "  <thead>\n",
       "    <tr style=\"text-align: right;\">\n",
       "      <th></th>\n",
       "      <th>Year</th>\n",
       "      <th>Title</th>\n",
       "      <th>Director</th>\n",
       "      <th>Cast</th>\n",
       "      <th>Genre</th>\n",
       "    </tr>\n",
       "  </thead>\n",
       "  <tbody>\n",
       "    <tr>\n",
       "      <th>0</th>\n",
       "      <td>1920</td>\n",
       "      <td>Balika Badhu a.k.a. Baby Bride</td>\n",
       "      <td>P. T. Shaida (Tulsidutt Shaida)</td>\n",
       "      <td>shaida,pandit,ali,miss,tarak,bagcha,tulsidutt</td>\n",
       "      <td>social</td>\n",
       "    </tr>\n",
       "    <tr>\n",
       "      <th>1</th>\n",
       "      <td>1920</td>\n",
       "      <td>Daksha Yagna a.k.a. Sati Parvati</td>\n",
       "      <td>Vishnupant Divekar</td>\n",
       "      <td>prabha,khalil,vaidya</td>\n",
       "      <td>mythology</td>\n",
       "    </tr>\n",
       "    <tr>\n",
       "      <th>2</th>\n",
       "      <td>1920</td>\n",
       "      <td>Jalandhar Vrinda a.k.a. Sati Tulsi Vrinda</td>\n",
       "      <td>G. V. Sane</td>\n",
       "      <td>unknown</td>\n",
       "      <td>mythology</td>\n",
       "    </tr>\n",
       "    <tr>\n",
       "      <th>3</th>\n",
       "      <td>1920</td>\n",
       "      <td>Kansa Vadha a.k.a. End Of The Tyrant King</td>\n",
       "      <td>G. V. Sane</td>\n",
       "      <td>unknown</td>\n",
       "      <td>mythology</td>\n",
       "    </tr>\n",
       "    <tr>\n",
       "      <th>4</th>\n",
       "      <td>1920</td>\n",
       "      <td>Katorabhar Khoon a.k.a.The Stinger Stung a.k.a...</td>\n",
       "      <td>S. N. Patankar</td>\n",
       "      <td>koregaonkar,gokhale,vyas,trymbakrao,pradhan,ta...</td>\n",
       "      <td>social</td>\n",
       "    </tr>\n",
       "    <tr>\n",
       "      <th>...</th>\n",
       "      <td>...</td>\n",
       "      <td>...</td>\n",
       "      <td>...</td>\n",
       "      <td>...</td>\n",
       "      <td>...</td>\n",
       "    </tr>\n",
       "    <tr>\n",
       "      <th>9677</th>\n",
       "      <td>2019</td>\n",
       "      <td>Panipat</td>\n",
       "      <td>Ashutosh Gowariker</td>\n",
       "      <td>Sanjay DuttArjun KapoorKriti SanonKabir Bedi</td>\n",
       "      <td>Action/battle</td>\n",
       "    </tr>\n",
       "    <tr>\n",
       "      <th>9678</th>\n",
       "      <td>2019</td>\n",
       "      <td>Pati, Patni Aur Woh</td>\n",
       "      <td>Mudassar Aziz</td>\n",
       "      <td>Kartik AaryanBhumi PednekarAnanya Panday</td>\n",
       "      <td>Comedy</td>\n",
       "    </tr>\n",
       "    <tr>\n",
       "      <th>9679</th>\n",
       "      <td>2019</td>\n",
       "      <td>Mardaani 2</td>\n",
       "      <td>Gopi Puthran</td>\n",
       "      <td>Rani MukherjeeVikram Singh ChauhanShruti Bapna...</td>\n",
       "      <td>Crime Thriller</td>\n",
       "    </tr>\n",
       "    <tr>\n",
       "      <th>9680</th>\n",
       "      <td>2019</td>\n",
       "      <td>Dabangg 3</td>\n",
       "      <td>Prabhu Deva</td>\n",
       "      <td>Salman KhanSonakshi SinhaArbaaz KhanMahie Gill...</td>\n",
       "      <td>Action</td>\n",
       "    </tr>\n",
       "    <tr>\n",
       "      <th>9681</th>\n",
       "      <td>2019</td>\n",
       "      <td>Good News</td>\n",
       "      <td>Raj Mehta</td>\n",
       "      <td>Akshay KumarKareena KapoorDiljit DosanjhKiara ...</td>\n",
       "      <td>Comedy</td>\n",
       "    </tr>\n",
       "  </tbody>\n",
       "</table>\n",
       "<p>9682 rows × 5 columns</p>\n",
       "</div>"
      ],
      "text/plain": [
       "      Year                                              Title  \\\n",
       "0     1920                     Balika Badhu a.k.a. Baby Bride   \n",
       "1     1920                   Daksha Yagna a.k.a. Sati Parvati   \n",
       "2     1920          Jalandhar Vrinda a.k.a. Sati Tulsi Vrinda   \n",
       "3     1920          Kansa Vadha a.k.a. End Of The Tyrant King   \n",
       "4     1920  Katorabhar Khoon a.k.a.The Stinger Stung a.k.a...   \n",
       "...    ...                                                ...   \n",
       "9677  2019                                            Panipat   \n",
       "9678  2019                                Pati, Patni Aur Woh   \n",
       "9679  2019                                         Mardaani 2   \n",
       "9680  2019                                          Dabangg 3   \n",
       "9681  2019                                          Good News   \n",
       "\n",
       "                             Director  \\\n",
       "0     P. T. Shaida (Tulsidutt Shaida)   \n",
       "1                  Vishnupant Divekar   \n",
       "2                          G. V. Sane   \n",
       "3                          G. V. Sane   \n",
       "4                      S. N. Patankar   \n",
       "...                               ...   \n",
       "9677               Ashutosh Gowariker   \n",
       "9678                    Mudassar Aziz   \n",
       "9679                     Gopi Puthran   \n",
       "9680                      Prabhu Deva   \n",
       "9681                        Raj Mehta   \n",
       "\n",
       "                                                   Cast           Genre  \n",
       "0         shaida,pandit,ali,miss,tarak,bagcha,tulsidutt          social  \n",
       "1                                  prabha,khalil,vaidya       mythology  \n",
       "2                                               unknown       mythology  \n",
       "3                                               unknown       mythology  \n",
       "4     koregaonkar,gokhale,vyas,trymbakrao,pradhan,ta...          social  \n",
       "...                                                 ...             ...  \n",
       "9677       Sanjay DuttArjun KapoorKriti SanonKabir Bedi   Action/battle  \n",
       "9678           Kartik AaryanBhumi PednekarAnanya Panday          Comedy  \n",
       "9679  Rani MukherjeeVikram Singh ChauhanShruti Bapna...  Crime Thriller  \n",
       "9680  Salman KhanSonakshi SinhaArbaaz KhanMahie Gill...          Action  \n",
       "9681  Akshay KumarKareena KapoorDiljit DosanjhKiara ...          Comedy  \n",
       "\n",
       "[9682 rows x 5 columns]"
      ]
     },
     "execution_count": 6,
     "metadata": {},
     "output_type": "execute_result"
    }
   ],
   "source": [
    "df"
   ]
  },
  {
   "cell_type": "code",
   "execution_count": 7,
   "id": "02feaa3f",
   "metadata": {},
   "outputs": [],
   "source": [
    "df = df.loc[df['Year']>1990]\n",
    "# Taking movies only after 1990"
   ]
  },
  {
   "cell_type": "code",
   "execution_count": 8,
   "id": "f8d2d8c2",
   "metadata": {
    "scrolled": true
   },
   "outputs": [
    {
     "data": {
      "text/html": [
       "<div>\n",
       "<style scoped>\n",
       "    .dataframe tbody tr th:only-of-type {\n",
       "        vertical-align: middle;\n",
       "    }\n",
       "\n",
       "    .dataframe tbody tr th {\n",
       "        vertical-align: top;\n",
       "    }\n",
       "\n",
       "    .dataframe thead th {\n",
       "        text-align: right;\n",
       "    }\n",
       "</style>\n",
       "<table border=\"1\" class=\"dataframe\">\n",
       "  <thead>\n",
       "    <tr style=\"text-align: right;\">\n",
       "      <th></th>\n",
       "      <th>Year</th>\n",
       "      <th>Title</th>\n",
       "      <th>Director</th>\n",
       "      <th>Cast</th>\n",
       "      <th>Genre</th>\n",
       "    </tr>\n",
       "  </thead>\n",
       "  <tbody>\n",
       "    <tr>\n",
       "      <th>6653</th>\n",
       "      <td>1991</td>\n",
       "      <td>100 Days</td>\n",
       "      <td>Parto Ghosh</td>\n",
       "      <td>madhuri,shroff,jackie,dixit</td>\n",
       "      <td>thriller</td>\n",
       "    </tr>\n",
       "    <tr>\n",
       "      <th>6654</th>\n",
       "      <td>1991</td>\n",
       "      <td>Aag Laga Do Sawan Ko</td>\n",
       "      <td>Anup Malik</td>\n",
       "      <td>harish,patel</td>\n",
       "      <td>unknown</td>\n",
       "    </tr>\n",
       "    <tr>\n",
       "      <th>6655</th>\n",
       "      <td>1991</td>\n",
       "      <td>Aaj Ka Samson</td>\n",
       "      <td>Kuku Kapoor</td>\n",
       "      <td>chaddha,kapoor,sahila,goga,hemant,birje</td>\n",
       "      <td>action,romance</td>\n",
       "    </tr>\n",
       "    <tr>\n",
       "      <th>6656</th>\n",
       "      <td>1991</td>\n",
       "      <td>Aakhri Cheekh</td>\n",
       "      <td>Kiran Ramsay</td>\n",
       "      <td>ghatge,dhawan,vijay,anil,arora,vijayendra</td>\n",
       "      <td>horror</td>\n",
       "    </tr>\n",
       "    <tr>\n",
       "      <th>6657</th>\n",
       "      <td>1991</td>\n",
       "      <td>Afsana Pyar Ka</td>\n",
       "      <td>Shahjahan</td>\n",
       "      <td>khan,aamir,kothari,neelam</td>\n",
       "      <td>romance</td>\n",
       "    </tr>\n",
       "    <tr>\n",
       "      <th>...</th>\n",
       "      <td>...</td>\n",
       "      <td>...</td>\n",
       "      <td>...</td>\n",
       "      <td>...</td>\n",
       "      <td>...</td>\n",
       "    </tr>\n",
       "    <tr>\n",
       "      <th>9677</th>\n",
       "      <td>2019</td>\n",
       "      <td>Panipat</td>\n",
       "      <td>Ashutosh Gowariker</td>\n",
       "      <td>Sanjay DuttArjun KapoorKriti SanonKabir Bedi</td>\n",
       "      <td>Action/battle</td>\n",
       "    </tr>\n",
       "    <tr>\n",
       "      <th>9678</th>\n",
       "      <td>2019</td>\n",
       "      <td>Pati, Patni Aur Woh</td>\n",
       "      <td>Mudassar Aziz</td>\n",
       "      <td>Kartik AaryanBhumi PednekarAnanya Panday</td>\n",
       "      <td>Comedy</td>\n",
       "    </tr>\n",
       "    <tr>\n",
       "      <th>9679</th>\n",
       "      <td>2019</td>\n",
       "      <td>Mardaani 2</td>\n",
       "      <td>Gopi Puthran</td>\n",
       "      <td>Rani MukherjeeVikram Singh ChauhanShruti Bapna...</td>\n",
       "      <td>Crime Thriller</td>\n",
       "    </tr>\n",
       "    <tr>\n",
       "      <th>9680</th>\n",
       "      <td>2019</td>\n",
       "      <td>Dabangg 3</td>\n",
       "      <td>Prabhu Deva</td>\n",
       "      <td>Salman KhanSonakshi SinhaArbaaz KhanMahie Gill...</td>\n",
       "      <td>Action</td>\n",
       "    </tr>\n",
       "    <tr>\n",
       "      <th>9681</th>\n",
       "      <td>2019</td>\n",
       "      <td>Good News</td>\n",
       "      <td>Raj Mehta</td>\n",
       "      <td>Akshay KumarKareena KapoorDiljit DosanjhKiara ...</td>\n",
       "      <td>Comedy</td>\n",
       "    </tr>\n",
       "  </tbody>\n",
       "</table>\n",
       "<p>3029 rows × 5 columns</p>\n",
       "</div>"
      ],
      "text/plain": [
       "      Year                 Title            Director  \\\n",
       "6653  1991              100 Days         Parto Ghosh   \n",
       "6654  1991  Aag Laga Do Sawan Ko          Anup Malik   \n",
       "6655  1991         Aaj Ka Samson         Kuku Kapoor   \n",
       "6656  1991         Aakhri Cheekh        Kiran Ramsay   \n",
       "6657  1991        Afsana Pyar Ka           Shahjahan   \n",
       "...    ...                   ...                 ...   \n",
       "9677  2019               Panipat  Ashutosh Gowariker   \n",
       "9678  2019   Pati, Patni Aur Woh       Mudassar Aziz   \n",
       "9679  2019            Mardaani 2        Gopi Puthran   \n",
       "9680  2019             Dabangg 3         Prabhu Deva   \n",
       "9681  2019             Good News           Raj Mehta   \n",
       "\n",
       "                                                   Cast           Genre  \n",
       "6653                        madhuri,shroff,jackie,dixit        thriller  \n",
       "6654                                       harish,patel         unknown  \n",
       "6655            chaddha,kapoor,sahila,goga,hemant,birje  action,romance  \n",
       "6656          ghatge,dhawan,vijay,anil,arora,vijayendra          horror  \n",
       "6657                          khan,aamir,kothari,neelam         romance  \n",
       "...                                                 ...             ...  \n",
       "9677       Sanjay DuttArjun KapoorKriti SanonKabir Bedi   Action/battle  \n",
       "9678           Kartik AaryanBhumi PednekarAnanya Panday          Comedy  \n",
       "9679  Rani MukherjeeVikram Singh ChauhanShruti Bapna...  Crime Thriller  \n",
       "9680  Salman KhanSonakshi SinhaArbaaz KhanMahie Gill...          Action  \n",
       "9681  Akshay KumarKareena KapoorDiljit DosanjhKiara ...          Comedy  \n",
       "\n",
       "[3029 rows x 5 columns]"
      ]
     },
     "execution_count": 8,
     "metadata": {},
     "output_type": "execute_result"
    }
   ],
   "source": [
    "df\n",
    "# here we can see that the index numbering is starting from 6593 we wil be reseting it to start from 0\n"
   ]
  },
  {
   "cell_type": "code",
   "execution_count": 9,
   "id": "5ddfdafb",
   "metadata": {},
   "outputs": [
    {
     "data": {
      "text/html": [
       "<div>\n",
       "<style scoped>\n",
       "    .dataframe tbody tr th:only-of-type {\n",
       "        vertical-align: middle;\n",
       "    }\n",
       "\n",
       "    .dataframe tbody tr th {\n",
       "        vertical-align: top;\n",
       "    }\n",
       "\n",
       "    .dataframe thead th {\n",
       "        text-align: right;\n",
       "    }\n",
       "</style>\n",
       "<table border=\"1\" class=\"dataframe\">\n",
       "  <thead>\n",
       "    <tr style=\"text-align: right;\">\n",
       "      <th></th>\n",
       "      <th>Year</th>\n",
       "      <th>Title</th>\n",
       "      <th>Director</th>\n",
       "      <th>Cast</th>\n",
       "      <th>Genre</th>\n",
       "    </tr>\n",
       "  </thead>\n",
       "  <tbody>\n",
       "    <tr>\n",
       "      <th>0</th>\n",
       "      <td>1991</td>\n",
       "      <td>100 Days</td>\n",
       "      <td>Parto Ghosh</td>\n",
       "      <td>madhuri,shroff,jackie,dixit</td>\n",
       "      <td>thriller</td>\n",
       "    </tr>\n",
       "    <tr>\n",
       "      <th>1</th>\n",
       "      <td>1991</td>\n",
       "      <td>Aag Laga Do Sawan Ko</td>\n",
       "      <td>Anup Malik</td>\n",
       "      <td>harish,patel</td>\n",
       "      <td>unknown</td>\n",
       "    </tr>\n",
       "    <tr>\n",
       "      <th>2</th>\n",
       "      <td>1991</td>\n",
       "      <td>Aaj Ka Samson</td>\n",
       "      <td>Kuku Kapoor</td>\n",
       "      <td>chaddha,kapoor,sahila,goga,hemant,birje</td>\n",
       "      <td>action,romance</td>\n",
       "    </tr>\n",
       "    <tr>\n",
       "      <th>3</th>\n",
       "      <td>1991</td>\n",
       "      <td>Aakhri Cheekh</td>\n",
       "      <td>Kiran Ramsay</td>\n",
       "      <td>ghatge,dhawan,vijay,anil,arora,vijayendra</td>\n",
       "      <td>horror</td>\n",
       "    </tr>\n",
       "    <tr>\n",
       "      <th>4</th>\n",
       "      <td>1991</td>\n",
       "      <td>Afsana Pyar Ka</td>\n",
       "      <td>Shahjahan</td>\n",
       "      <td>khan,aamir,kothari,neelam</td>\n",
       "      <td>romance</td>\n",
       "    </tr>\n",
       "    <tr>\n",
       "      <th>...</th>\n",
       "      <td>...</td>\n",
       "      <td>...</td>\n",
       "      <td>...</td>\n",
       "      <td>...</td>\n",
       "      <td>...</td>\n",
       "    </tr>\n",
       "    <tr>\n",
       "      <th>3024</th>\n",
       "      <td>2019</td>\n",
       "      <td>Panipat</td>\n",
       "      <td>Ashutosh Gowariker</td>\n",
       "      <td>Sanjay DuttArjun KapoorKriti SanonKabir Bedi</td>\n",
       "      <td>Action/battle</td>\n",
       "    </tr>\n",
       "    <tr>\n",
       "      <th>3025</th>\n",
       "      <td>2019</td>\n",
       "      <td>Pati, Patni Aur Woh</td>\n",
       "      <td>Mudassar Aziz</td>\n",
       "      <td>Kartik AaryanBhumi PednekarAnanya Panday</td>\n",
       "      <td>Comedy</td>\n",
       "    </tr>\n",
       "    <tr>\n",
       "      <th>3026</th>\n",
       "      <td>2019</td>\n",
       "      <td>Mardaani 2</td>\n",
       "      <td>Gopi Puthran</td>\n",
       "      <td>Rani MukherjeeVikram Singh ChauhanShruti Bapna...</td>\n",
       "      <td>Crime Thriller</td>\n",
       "    </tr>\n",
       "    <tr>\n",
       "      <th>3027</th>\n",
       "      <td>2019</td>\n",
       "      <td>Dabangg 3</td>\n",
       "      <td>Prabhu Deva</td>\n",
       "      <td>Salman KhanSonakshi SinhaArbaaz KhanMahie Gill...</td>\n",
       "      <td>Action</td>\n",
       "    </tr>\n",
       "    <tr>\n",
       "      <th>3028</th>\n",
       "      <td>2019</td>\n",
       "      <td>Good News</td>\n",
       "      <td>Raj Mehta</td>\n",
       "      <td>Akshay KumarKareena KapoorDiljit DosanjhKiara ...</td>\n",
       "      <td>Comedy</td>\n",
       "    </tr>\n",
       "  </tbody>\n",
       "</table>\n",
       "<p>3029 rows × 5 columns</p>\n",
       "</div>"
      ],
      "text/plain": [
       "      Year                 Title            Director  \\\n",
       "0     1991              100 Days         Parto Ghosh   \n",
       "1     1991  Aag Laga Do Sawan Ko          Anup Malik   \n",
       "2     1991         Aaj Ka Samson         Kuku Kapoor   \n",
       "3     1991         Aakhri Cheekh        Kiran Ramsay   \n",
       "4     1991        Afsana Pyar Ka           Shahjahan   \n",
       "...    ...                   ...                 ...   \n",
       "3024  2019               Panipat  Ashutosh Gowariker   \n",
       "3025  2019   Pati, Patni Aur Woh       Mudassar Aziz   \n",
       "3026  2019            Mardaani 2        Gopi Puthran   \n",
       "3027  2019             Dabangg 3         Prabhu Deva   \n",
       "3028  2019             Good News           Raj Mehta   \n",
       "\n",
       "                                                   Cast           Genre  \n",
       "0                           madhuri,shroff,jackie,dixit        thriller  \n",
       "1                                          harish,patel         unknown  \n",
       "2               chaddha,kapoor,sahila,goga,hemant,birje  action,romance  \n",
       "3             ghatge,dhawan,vijay,anil,arora,vijayendra          horror  \n",
       "4                             khan,aamir,kothari,neelam         romance  \n",
       "...                                                 ...             ...  \n",
       "3024       Sanjay DuttArjun KapoorKriti SanonKabir Bedi   Action/battle  \n",
       "3025           Kartik AaryanBhumi PednekarAnanya Panday          Comedy  \n",
       "3026  Rani MukherjeeVikram Singh ChauhanShruti Bapna...  Crime Thriller  \n",
       "3027  Salman KhanSonakshi SinhaArbaaz KhanMahie Gill...          Action  \n",
       "3028  Akshay KumarKareena KapoorDiljit DosanjhKiara ...          Comedy  \n",
       "\n",
       "[3029 rows x 5 columns]"
      ]
     },
     "execution_count": 9,
     "metadata": {},
     "output_type": "execute_result"
    }
   ],
   "source": [
    "df=df.reset_index().drop('index',1)\n",
    "df\n",
    "# here we have reset our indexing"
   ]
  },
  {
   "cell_type": "code",
   "execution_count": 10,
   "id": "3db9c00a",
   "metadata": {
    "scrolled": true
   },
   "outputs": [
    {
     "data": {
      "text/plain": [
       "Year        0\n",
       "Title       0\n",
       "Director    0\n",
       "Cast        0\n",
       "Genre       1\n",
       "dtype: int64"
      ]
     },
     "execution_count": 10,
     "metadata": {},
     "output_type": "execute_result"
    }
   ],
   "source": [
    "# here we are looking for null values in our dataset and well be replacing them.\n",
    "df.isnull().sum(axis=0)"
   ]
  },
  {
   "cell_type": "code",
   "execution_count": 11,
   "id": "9e12eb11",
   "metadata": {},
   "outputs": [],
   "source": [
    "df['Genre'] = df['Genre'].replace('np.nan', 'unknown')"
   ]
  },
  {
   "cell_type": "code",
   "execution_count": 12,
   "id": "98e97467",
   "metadata": {},
   "outputs": [],
   "source": [
    "# In the ‘Genre’ column, some values have two genres separated by a comma in a cell-like “action, comedy”. \n",
    "# While calculating similarities, Python will consider it a single string while they are two different genres \n",
    "# of the same movie. So we have to replace the comma with whitespace so they will be considered different like “action comedy”.\n",
    "\n",
    "df['Genre'] = df['Genre'].str.replace(',',' ')\n",
    "\n",
    "# similarly replacing commas in cast column too.\n",
    "df['Cast'] = df['Cast'].str.replace(',',' ')"
   ]
  },
  {
   "cell_type": "code",
   "execution_count": 13,
   "id": "5ffeb057",
   "metadata": {},
   "outputs": [
    {
     "data": {
      "text/plain": [
       "0                  madhuri shroff jackie dixit\n",
       "1                                 harish patel\n",
       "2      chaddha kapoor sahila goga hemant birje\n",
       "3    ghatge dhawan vijay anil arora vijayendra\n",
       "4                    khan aamir kothari neelam\n",
       "Name: Cast, dtype: object"
      ]
     },
     "execution_count": 13,
     "metadata": {},
     "output_type": "execute_result"
    }
   ],
   "source": [
    "df['Cast'].head()"
   ]
  },
  {
   "cell_type": "code",
   "execution_count": 14,
   "id": "301a1c8f",
   "metadata": {},
   "outputs": [],
   "source": [
    "# In the ‘Director’ columns, the name and surname is separated by whitespace. Here name and surname will be considered \n",
    "# as two different words and this can lead to false similarity. For example, two directors \n",
    "#  “Sajid Khan” and “Salim Khan” will be considered 50% similar by Python, while they are two completely\n",
    "# different persons. So converting them to “SajidKhan” and “SalimKhan” will help us.\n",
    "\n",
    "df['Director'] = df['Director'].str.replace(' ','')"
   ]
  },
  {
   "cell_type": "code",
   "execution_count": 15,
   "id": "da5bb03a",
   "metadata": {},
   "outputs": [
    {
     "data": {
      "text/plain": [
       "0     PartoGhosh\n",
       "1      AnupMalik\n",
       "2     KukuKapoor\n",
       "3    KiranRamsay\n",
       "4      Shahjahan\n",
       "Name: Director, dtype: object"
      ]
     },
     "execution_count": 15,
     "metadata": {},
     "output_type": "execute_result"
    }
   ],
   "source": [
    "df['Director'].head()"
   ]
  },
  {
   "cell_type": "code",
   "execution_count": 16,
   "id": "b98cd08a",
   "metadata": {},
   "outputs": [],
   "source": [
    "# converting the movie title into lower case for searching simplicity.\n",
    "df['Title'] = df['Title'].str.lower()"
   ]
  },
  {
   "cell_type": "code",
   "execution_count": 17,
   "id": "84d0cfcd",
   "metadata": {},
   "outputs": [],
   "source": [
    "# Now we’ll sum up the text of all the features we’re going to use for measuring similarity in one column. \n",
    "# But first, we have to convert the data type of the ‘Year’ column from int to string.\n",
    "\n",
    "df['Year'] = df['Year'].astype(str)"
   ]
  },
  {
   "cell_type": "code",
   "execution_count": 18,
   "id": "6334d0de",
   "metadata": {},
   "outputs": [],
   "source": [
    "# creating the combined feature.\n",
    "df['comb'] = df['Year']+' '+df['Director']+' '+df['Genre']+' '+df['Cast']"
   ]
  },
  {
   "cell_type": "code",
   "execution_count": 19,
   "id": "256bd124",
   "metadata": {},
   "outputs": [
    {
     "data": {
      "text/plain": [
       "0       1991 PartoGhosh thriller madhuri shroff jackie...\n",
       "1                     1991 AnupMalik unknown harish patel\n",
       "2       1991 KukuKapoor action romance chaddha kapoor ...\n",
       "3       1991 KiranRamsay horror ghatge dhawan vijay an...\n",
       "4        1991 Shahjahan romance khan aamir kothari neelam\n",
       "                              ...                        \n",
       "3024    2019 AshutoshGowariker Action/battle Sanjay Du...\n",
       "3025    2019 MudassarAziz Comedy Kartik AaryanBhumi Pe...\n",
       "3026    2019 GopiPuthran Crime Thriller Rani Mukherjee...\n",
       "3027    2019 PrabhuDeva Action Salman KhanSonakshi Sin...\n",
       "3028    2019 RajMehta Comedy Akshay KumarKareena Kapoo...\n",
       "Name: comb, Length: 3029, dtype: object"
      ]
     },
     "execution_count": 19,
     "metadata": {},
     "output_type": "execute_result"
    }
   ],
   "source": [
    "df['comb']"
   ]
  },
  {
   "cell_type": "code",
   "execution_count": 20,
   "id": "008c87f7",
   "metadata": {},
   "outputs": [],
   "source": [
    "# making a count matrix of features and then a similarity Score matrix. \n",
    "# The similarity score matrix contains the cosine similarity of all the movies in the dataset. \n",
    "# We can get the similarity score of two movies by their index in the dataset.\n",
    "\n",
    "cv = CountVectorizer()\n",
    "\n",
    "count_matrix= cv.fit_transform(df['comb'].values.astype('U'))\n",
    "sim = cosine_similarity(count_matrix)"
   ]
  },
  {
   "cell_type": "code",
   "execution_count": 21,
   "id": "9072fe3a",
   "metadata": {},
   "outputs": [
    {
     "data": {
      "text/plain": [
       "array([[1.        , 0.16903085, 0.11952286, ..., 0.11396058, 0.        ,\n",
       "        0.        ],\n",
       "       [0.16903085, 1.        , 0.14142136, ..., 0.        , 0.        ,\n",
       "        0.        ],\n",
       "       [0.11952286, 0.14142136, 1.        , ..., 0.        , 0.1118034 ,\n",
       "        0.        ],\n",
       "       ...,\n",
       "       [0.11396058, 0.        , 0.        , ..., 1.        , 0.10660036,\n",
       "        0.10660036],\n",
       "       [0.        , 0.        , 0.1118034 , ..., 0.10660036, 1.        ,\n",
       "        0.125     ],\n",
       "       [0.        , 0.        , 0.        , ..., 0.10660036, 0.125     ,\n",
       "        1.        ]])"
      ]
     },
     "execution_count": 21,
     "metadata": {},
     "output_type": "execute_result"
    }
   ],
   "source": [
    "sim"
   ]
  },
  {
   "cell_type": "code",
   "execution_count": 22,
   "id": "ab760c77",
   "metadata": {},
   "outputs": [
    {
     "data": {
      "text/plain": [
       "True"
      ]
     },
     "execution_count": 22,
     "metadata": {},
     "output_type": "execute_result"
    }
   ],
   "source": [
    "# naming a movie user like. Convert it to the small case, cause we converted all the titles to small case. \n",
    "# Then check if this movie exists in our dataset or not.\n",
    "\n",
    "m = 'Hungama'\n",
    "m = m.lower()\n",
    "m in df['Title'].unique()"
   ]
  },
  {
   "cell_type": "code",
   "execution_count": 23,
   "id": "496c1908",
   "metadata": {},
   "outputs": [
    {
     "name": "stdout",
     "output_type": "stream",
     "text": [
      "1183\n"
     ]
    }
   ],
   "source": [
    "# geting the index of the movie in the dataset. \n",
    "# Then fetch the row on the same index from the similarity score matrix, which has the similarity \n",
    "# scores of all the movies to the movie user like.\n",
    "\n",
    "i = df.loc[df['Title'] == m].index[0]\n",
    "print(i)"
   ]
  },
  {
   "cell_type": "code",
   "execution_count": 24,
   "id": "ee802610",
   "metadata": {},
   "outputs": [
    {
     "data": {
      "text/plain": [
       "array([0.        , 0.        , 0.        , ..., 0.        , 0.        ,\n",
       "       0.09805807])"
      ]
     },
     "execution_count": 24,
     "metadata": {},
     "output_type": "execute_result"
    }
   ],
   "source": [
    "# getting the row related to movie from similarity score matrix.\n",
    "# enumerating the rows so that we dint lose the indexing after sorting in form of list.\n",
    "sim[i]"
   ]
  },
  {
   "cell_type": "code",
   "execution_count": 25,
   "id": "e934205b",
   "metadata": {},
   "outputs": [],
   "source": [
    "lst = list(enumerate(sim[i]))"
   ]
  },
  {
   "cell_type": "code",
   "execution_count": 26,
   "id": "9ff2314c",
   "metadata": {},
   "outputs": [
    {
     "data": {
      "text/plain": [
       "[(0, 0.0),\n",
       " (1, 0.0),\n",
       " (2, 0.0),\n",
       " (3, 0.0),\n",
       " (4, 0.0),\n",
       " (5, 0.0),\n",
       " (6, 0.0),\n",
       " (7, 0.0),\n",
       " (8, 0.0),\n",
       " (9, 0.0),\n",
       " (10, 0.0),\n",
       " (11, 0.0),\n",
       " (12, 0.0),\n",
       " (13, 0.08362420100070908),\n",
       " (14, 0.0),\n",
       " (15, 0.09245003270420485),\n",
       " (16, 0.0),\n",
       " (17, 0.0),\n",
       " (18, 0.0),\n",
       " (19, 0.0)]"
      ]
     },
     "execution_count": 26,
     "metadata": {},
     "output_type": "execute_result"
    }
   ],
   "source": [
    "lst[:20]"
   ]
  },
  {
   "cell_type": "code",
   "execution_count": 27,
   "id": "22dfcc10",
   "metadata": {},
   "outputs": [],
   "source": [
    "# sorting the list in descending order of similarity score.\n",
    "lst = sorted(lst, key = lambda x:x[1], reverse = True)\n",
    "\n",
    "#as we need only 10 most similar movies keeping only the ten movies other than the movie we entered itself.\n",
    "lst = lst[1:11]"
   ]
  },
  {
   "cell_type": "code",
   "execution_count": 28,
   "id": "d927dbcd",
   "metadata": {},
   "outputs": [
    {
     "name": "stdout",
     "output_type": "stream",
     "text": [
      "['mere baap pehle aap', 'aakrosh', 'kamaal dhamaal malamaal', 'main madhuri dixit banna chahti hoon', 'chup chup ke', 'phir hera pheri', 'hattrick', 'no problem', 'bhagam bhag', 'de taali']\n"
     ]
    }
   ],
   "source": [
    "# getting the list of recommended movies.\n",
    "m = []\n",
    "\n",
    "for i in range(len(lst)):\n",
    "    a = lst[i][0]\n",
    "    m.append(df['Title'][a])\n",
    "print(m)"
   ]
  },
  {
   "cell_type": "code",
   "execution_count": 29,
   "id": "a4f291f6",
   "metadata": {},
   "outputs": [
    {
     "name": "stdout",
     "output_type": "stream",
     "text": [
      "mere baap pehle aap\n",
      "aakrosh\n",
      "kamaal dhamaal malamaal\n",
      "main madhuri dixit banna chahti hoon\n",
      "chup chup ke\n",
      "phir hera pheri\n",
      "hattrick\n",
      "no problem\n",
      "bhagam bhag\n",
      "de taali\n"
     ]
    }
   ],
   "source": [
    "for i in range(len(m)):\n",
    "    print(m[i])"
   ]
  },
  {
   "cell_type": "code",
   "execution_count": 30,
   "id": "50ab094e",
   "metadata": {},
   "outputs": [],
   "source": [
    "# creating a function that takes a movie you like as input and returns the suggestions\n",
    "def recommend(m):\n",
    "    m = m.lower()\n",
    "    if m not in df['Title'].unique():\n",
    "        print(\"\"\"\"This movie is not in our database.\n",
    "                    please enter other.\"\"\")\n",
    "    else:\n",
    "        i = df.loc[df['Title'] == m].index[0]\n",
    "        lst = list(enumerate(sim[i]))\n",
    "        lst = sorted(lst, key = lambda x:x[1], reverse = True)\n",
    "        lst = lst[1:11]\n",
    "        l = []\n",
    "        for i in range(len(lst)):\n",
    "            a = lst[i][0]\n",
    "            l.append(df['Title'][a])\n",
    "        for i in range(len(l)):\n",
    "            print(l[i])"
   ]
  },
  {
   "cell_type": "code",
   "execution_count": 31,
   "id": "480490eb",
   "metadata": {},
   "outputs": [
    {
     "name": "stdout",
     "output_type": "stream",
     "text": [
      "auzaar\n",
      "army\n",
      "kick\n",
      "chaand kaa tukdaa\n",
      "pyaar kiya to darna kya\n",
      "hello brother\n",
      "koyelaanchal\n",
      "balwaan\n",
      "dil tera aashiq\n",
      "shastra\n"
     ]
    }
   ],
   "source": [
    "recommend('Jai ho')"
   ]
  },
  {
   "cell_type": "code",
   "execution_count": 32,
   "id": "def7c279",
   "metadata": {},
   "outputs": [
    {
     "name": "stdout",
     "output_type": "stream",
     "text": [
      "\"This movie is not in our database.\n",
      "                    please enter other.\n"
     ]
    }
   ],
   "source": [
    "recommend('Silsila')"
   ]
  },
  {
   "cell_type": "code",
   "execution_count": 33,
   "id": "e67bfc6f",
   "metadata": {},
   "outputs": [
    {
     "name": "stdout",
     "output_type": "stream",
     "text": [
      "dhoom 2\n",
      "dostana\n",
      "aetbaar\n",
      "dus\n",
      "kismat\n",
      "dhoom 3\n",
      "yuva\n",
      "kaal\n",
      "karam\n",
      "neal 'n' nikki\n"
     ]
    }
   ],
   "source": [
    "recommend('Dhoom')"
   ]
  },
  {
   "cell_type": "code",
   "execution_count": 34,
   "id": "c0bd94f3",
   "metadata": {},
   "outputs": [
    {
     "name": "stdout",
     "output_type": "stream",
     "text": [
      "\"This movie is not in our database.\n",
      "                    please enter other.\n"
     ]
    }
   ],
   "source": [
    "recommend('Khichdi')"
   ]
  },
  {
   "cell_type": "code",
   "execution_count": 35,
   "id": "b1dc1ea8",
   "metadata": {},
   "outputs": [
    {
     "name": "stdout",
     "output_type": "stream",
     "text": [
      "baazi\n",
      "dilwale dulhania le jayenge\n",
      "beqabu\n",
      "dilwale\n",
      "china gate\n",
      "koyla\n",
      "baazigar\n",
      "king uncle\n",
      "hulchul\n",
      "chennai express\n"
     ]
    }
   ],
   "source": [
    "recommend('Karan arjun')"
   ]
  },
  {
   "cell_type": "code",
   "execution_count": 36,
   "id": "76e2275d",
   "metadata": {},
   "outputs": [
    {
     "name": "stdout",
     "output_type": "stream",
     "text": [
      "dabangg 2\n",
      "nishchaiy\n",
      "99\n",
      "dabangg\n",
      "run\n",
      "rajjo\n",
      "kurbaan\n",
      "mumbai mirror\n",
      "patthar ke phool\n",
      "bodyguard\n"
     ]
    }
   ],
   "source": [
    "recommend('wanted')"
   ]
  },
  {
   "cell_type": "code",
   "execution_count": 37,
   "id": "4540b96b",
   "metadata": {},
   "outputs": [
    {
     "name": "stdout",
     "output_type": "stream",
     "text": [
      "dabangg 2\n",
      "wanted\n",
      "meerabai not out\n",
      "prem kaa game\n",
      "r... rajkumar\n",
      "khoon ka karz\n",
      "angaar\n",
      "once upon ay time in mumbai dobaara!\n",
      "indian\n",
      "yeh hai jalwa\n"
     ]
    }
   ],
   "source": [
    "recommend('dabangg')"
   ]
  },
  {
   "cell_type": "code",
   "execution_count": 38,
   "id": "779fd73e",
   "metadata": {},
   "outputs": [
    {
     "name": "stdout",
     "output_type": "stream",
     "text": [
      "\"This movie is not in our database.\n",
      "                    please enter other.\n"
     ]
    }
   ],
   "source": [
    "recommend(\"Once upon a time in mumbai\")"
   ]
  },
  {
   "cell_type": "code",
   "execution_count": 39,
   "id": "34ee9e9a",
   "metadata": {},
   "outputs": [
    {
     "name": "stdout",
     "output_type": "stream",
     "text": [
      "ghulam\n",
      "badal\n",
      "hichki\n",
      "raja ki aayegi baraat\n",
      "mehndi\n",
      "laaga chunari mein daag\n",
      "bichhoo\n",
      "calcutta mail\n",
      "kuch kuch hota hai\n",
      "chalte chalte\n"
     ]
    }
   ],
   "source": [
    "recommend(\"Mardaani\")"
   ]
  },
  {
   "cell_type": "code",
   "execution_count": 40,
   "id": "8efa15d8",
   "metadata": {},
   "outputs": [
    {
     "name": "stdout",
     "output_type": "stream",
     "text": [
      "housefull 4\n",
      "kabir singh\n",
      "dream girl\n",
      "singh is bliing\n",
      "fraud saiyaan\n",
      "khandaani shafakhana\n",
      "jabariya jodi\n",
      "pati, patni aur woh\n",
      "umar 55 ki dil bachpan ka\n",
      "mr. and mrs. khiladi\n"
     ]
    }
   ],
   "source": [
    "recommend(\"Good News\")"
   ]
  },
  {
   "cell_type": "code",
   "execution_count": 41,
   "id": "7fab3f03",
   "metadata": {},
   "outputs": [
    {
     "name": "stdout",
     "output_type": "stream",
     "text": [
      "dabangg 2\n",
      "nishchaiy\n",
      "99\n",
      "dabangg\n",
      "run\n",
      "rajjo\n",
      "kurbaan\n",
      "mumbai mirror\n",
      "patthar ke phool\n",
      "bodyguard\n"
     ]
    }
   ],
   "source": [
    "recommend(\"Wanted\")"
   ]
  },
  {
   "cell_type": "code",
   "execution_count": 42,
   "id": "1935ec95",
   "metadata": {},
   "outputs": [
    {
     "name": "stdout",
     "output_type": "stream",
     "text": [
      "ferrari ki sawaari\n",
      "ek main aur ekk tu\n",
      "pk\n",
      "kambakkht ishq\n",
      "xcuse me\n",
      "little zizou\n",
      "shirin farhad ki toh nikal padi\n",
      "dhol\n",
      "99\n",
      "fruit and nut\n"
     ]
    }
   ],
   "source": [
    "recommend('3 idiots')"
   ]
  },
  {
   "cell_type": "code",
   "execution_count": null,
   "id": "1a9fc7b1",
   "metadata": {},
   "outputs": [],
   "source": []
  }
 ],
 "metadata": {
  "kernelspec": {
   "display_name": "Python 3",
   "language": "python",
   "name": "python3"
  },
  "language_info": {
   "codemirror_mode": {
    "name": "ipython",
    "version": 3
   },
   "file_extension": ".py",
   "mimetype": "text/x-python",
   "name": "python",
   "nbconvert_exporter": "python",
   "pygments_lexer": "ipython3",
   "version": "3.8.8"
  }
 },
 "nbformat": 4,
 "nbformat_minor": 5
}
